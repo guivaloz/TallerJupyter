{
 "cells": [
  {
   "cell_type": "markdown",
   "id": "b479dd73",
   "metadata": {},
   "source": [
    "# 01 Proyecto Jupyter\n",
    "\n",
    "El [Proyecto Jupyter](https://jupyter.org/) es una organización sin ánimo de lucro creada para \"desarrollar software de código abierto, estándares abiertos y servicios para computación interactiva en docenas de lenguajes de programación\".\n",
    "\n",
    "Creado a partir de IPython en 2014 por **Fernando Pérez,** el proyecto Jupyter soporta entornos de ejecución en varias docenas de lenguajes de programación. Los tres lenguajes de programación soportados por Jupyter son **Julia**, **Python** y **R**.\n",
    "\n",
    "La filosofía operativa del Proyecto Jupyter es apoyar la ciencia de datos interactiva y la computación científica en todos los lenguajes de programación mediante el desarrollo de software de código abierto. Según el sitio web del Proyecto Jupyter, \"Jupyter siempre será un software 100% de código abierto, de uso gratuito para todos y lanzado bajo los términos liberales de la licencia BSD modificada\"."
   ]
  },
  {
   "cell_type": "markdown",
   "id": "edbe6ebe",
   "metadata": {},
   "source": [
    "## Instalar IPython\n",
    "\n",
    "Previamente debe tener instalado Python\n",
    "\n",
    "    python -m venv venv\n",
    "    . venv/bin/activate\n",
    "    pip list\n",
    "    pip install --upgrade pip\n",
    "    pip install wheel\n",
    "    pip install ipython\n",
    "\n",
    "Para ejecutar\n",
    "\n",
    "    ipython"
   ]
  },
  {
   "cell_type": "markdown",
   "id": "a48cf1fd",
   "metadata": {},
   "source": [
    "## Instalar Jupyter Notebook\n",
    "\n",
    "Instalar\n",
    "\n",
    "    python -m venv venv\n",
    "    . venv/bin/activate\n",
    "    pip list\n",
    "    pip install --upgrade pip\n",
    "    pip install wheel\n",
    "    pip install notebook\n",
    "\n",
    "Ejecutar\n",
    "\n",
    "    jupyter notebook"
   ]
  },
  {
   "cell_type": "markdown",
   "id": "49584e93",
   "metadata": {},
   "source": [
    "## Instalar JupyterLab\n",
    "\n",
    "JupyterLab is a web-based interactive development environment for Jupyter notebooks, code, and data. JupyterLab is flexible: configure and arrange the user interface to support a wide range of workflows in data science, scientific computing, and machine learning. JupyterLab is extensible and modular: write plugins that add new components and integrate with existing ones.\n",
    "\n",
    "    python -m venv venv\n",
    "    . venv/bin/activate\n",
    "    pip list\n",
    "    pip install --upgrade pip\n",
    "    pip install wheel\n",
    "    pip install jupyterlab\n",
    "\n",
    "Ejecutar\n",
    "\n",
    "    jupyter-lab"
   ]
  },
  {
   "cell_type": "markdown",
   "id": "c8fac08f",
   "metadata": {},
   "source": [
    "## Probar Jupyter Notebook sin instalar\n",
    "\n",
    "Solo abra su navegador de internet y vaya a [https://jupyter.org/try](https://jupyter.org/try)"
   ]
  },
  {
   "cell_type": "markdown",
   "id": "2b2288d5",
   "metadata": {},
   "source": [
    "## Google Colaboratory\n",
    "\n",
    "Con Google Chrome y tu cuenta Google ve a [colab.research.google.com/notebooks](https://colab.research.google.com/notebooks)\n",
    "\n",
    "Los _notebooks_ se guardarán en Google Drive. Lee la [Introducción a Colab](https://colab.research.google.com/notebooks/welcome.ipynb?hl=es)"
   ]
  },
  {
   "cell_type": "markdown",
   "id": "d62b3358",
   "metadata": {},
   "source": [
    "## El Dashboard\n",
    "\n",
    "![Dashboard](images/dashboard_notebooks_tab_5_0.png)\n",
    "\n",
    "Cuando arranca por primera vez el servicio se muestra el Dashboard. El Dashboard es la página inicial del Notebook.\n",
    "\n",
    "- Pestaña Files\n",
    "- Pestaña Running\n",
    "- Pestaña Clusters: requiere IPython Parallel\n",
    "\n",
    "Botones\n",
    "\n",
    "- New\n",
    "- Upload"
   ]
  },
  {
   "cell_type": "markdown",
   "id": "661e040d",
   "metadata": {},
   "source": [
    "## Notebook\n",
    "\n",
    "Los archivos notebook tienen la extensión **ipynb**. Al abrir un Notebook aparecerán...\n",
    "\n",
    "**Header (cabecera):** menubar, toolbar\n",
    "\n",
    "![Header](images/notebook_header_4_0.png)\n",
    "\n",
    "**Body (cuerpo):** donde encontrarás las celdas\n",
    "\n",
    "![Body](images/notebook_body_4_0.png)\n",
    "\n",
    "+ Markdown cells\n",
    "+ Code cells\n",
    "+ Raw cells\n",
    "\n",
    "Una celda puede tener dos modos\n",
    "\n",
    "- **Modo edición:** borde azul, presione ENTER o de click en la celda\n",
    "- **Modo comando:** borde verde, presiones ESC o de click fuera de la celda"
   ]
  },
  {
   "cell_type": "markdown",
   "id": "0a0fff5c",
   "metadata": {},
   "source": [
    "## Atajos de teclado\n",
    "\n",
    "![Keyboard shortcuts](images/notebook_shortcuts_4_0.png)"
   ]
  }
 ],
 "metadata": {
  "kernelspec": {
   "display_name": "Python 3 (ipykernel)",
   "language": "python",
   "name": "python3"
  },
  "language_info": {
   "codemirror_mode": {
    "name": "ipython",
    "version": 3
   },
   "file_extension": ".py",
   "mimetype": "text/x-python",
   "name": "python",
   "nbconvert_exporter": "python",
   "pygments_lexer": "ipython3",
   "version": "3.9.7"
  }
 },
 "nbformat": 4,
 "nbformat_minor": 5
}
