{
 "cells": [
  {
   "cell_type": "markdown",
   "id": "8fd466a9",
   "metadata": {},
   "source": [
    "# 03 Datos abiertos sobre COVID-19\n",
    "\n",
    "Estudiaremos los datos abiertos sobre la [vacunación COVID-19 en México](https://datos.gob.mx/busca/dataset/informacion-referente-a-casos-covid-19-en-mexico). Para saber las columnas baje el [Diccionario de Datos](https://www.gob.mx/salud/documentos/datos-abiertos-152127).\n",
    "\n",
    "1. Descargue **datos_abiertos_covid19.zip** en el vínculo anterior.\n",
    "2. Descomprima el archivo y póngalo en el mismo directorio donde está este _notebook_.\n",
    "3. Cambie el nombre del archivo en `archivo_csv = Path(\"211007COVID19MEXICO.csv\")`\n",
    "4. En la siguiente celda debe decir \"Ya veo el archivo\"."
   ]
  },
  {
   "cell_type": "code",
   "execution_count": null,
   "id": "f8d33a1f",
   "metadata": {},
   "outputs": [],
   "source": [
    "# Pathlib es para usar archivos de nuestro sistema operativo\n",
    "from pathlib import Path\n",
    "\n",
    "archivo_csv = Path(\"211007COVID19MEXICO.csv\")\n",
    "if archivo_csv.exists():\n",
    "    print(\"Ya veo el archivo\", archivo_csv.name)\n",
    "else:\n",
    "    raise Exception(\"No lo encuentro\")"
   ]
  },
  {
   "cell_type": "code",
   "execution_count": null,
   "id": "e17141d4",
   "metadata": {},
   "outputs": [],
   "source": [
    "# Pandas es excelente para analizar datos\n",
    "import pandas as pd"
   ]
  },
  {
   "cell_type": "code",
   "execution_count": null,
   "id": "391a88d7",
   "metadata": {},
   "outputs": [],
   "source": [
    "# Cargar el archivo. NOTA: Se tarda un buen tiempo por su tamaño\n",
    "covid19 = pd.read_csv(archivo_csv, low_memory=False)"
   ]
  },
  {
   "cell_type": "code",
   "execution_count": null,
   "id": "d115d996",
   "metadata": {},
   "outputs": [],
   "source": [
    "# Dar un viztazo a sus primeros renglones\n",
    "covid19.head()"
   ]
  },
  {
   "cell_type": "code",
   "execution_count": null,
   "id": "88311f53",
   "metadata": {},
   "outputs": [],
   "source": [
    "# Mostrar las columnas\n",
    "covid19.columns"
   ]
  },
  {
   "cell_type": "code",
   "execution_count": null,
   "id": "1437924c",
   "metadata": {},
   "outputs": [],
   "source": [
    "# Coahuila de Zaragoza es la entidad 5\n",
    "entidad = covid19[covid19.ENTIDAD_RES == 5]\n",
    "len(entidad)"
   ]
  },
  {
   "cell_type": "code",
   "execution_count": null,
   "id": "e225fa13",
   "metadata": {},
   "outputs": [],
   "source": [
    "# Elegimos unas columnas y las redefinimos como categorias para se cuantifiquen\n",
    "entidad = entidad[[\"SEXO\", \"ENTIDAD_RES\", \"MUNICIPIO_RES\", \"FECHA_DEF\", \"INTUBADO\", \"EDAD\"]]\n",
    "entidad.SEXO = entidad.SEXO.astype('category')\n",
    "entidad.ENTIDAD_RES = entidad.ENTIDAD_RES.astype('category')\n",
    "entidad.MUNICIPIO_RES = entidad.MUNICIPIO_RES.astype('category')\n",
    "entidad.INTUBADO = entidad.INTUBADO.astype('category')\n",
    "entidad.info()"
   ]
  },
  {
   "cell_type": "code",
   "execution_count": null,
   "id": "ec48bff1",
   "metadata": {},
   "outputs": [],
   "source": [
    "# Los sexos\n",
    "entidad.SEXO.cat.categories"
   ]
  },
  {
   "cell_type": "code",
   "execution_count": null,
   "id": "a3a52444",
   "metadata": {},
   "outputs": [],
   "source": [
    "# Los municipios\n",
    "entidad.MUNICIPIO_RES.cat.categories"
   ]
  },
  {
   "cell_type": "code",
   "execution_count": null,
   "id": "f401ab4e",
   "metadata": {},
   "outputs": [],
   "source": [
    "# Las fechas de defuncion\n",
    "entidad.FECHA_DEF.unique()"
   ]
  },
  {
   "cell_type": "code",
   "execution_count": null,
   "id": "6d13fe5b",
   "metadata": {},
   "outputs": [],
   "source": [
    "# Pivot table\n",
    "entidad.pivot_table(\n",
    "    index=[\"MUNICIPIO_RES\"], \n",
    "    columns=pd.Grouper(key=\"SEXO\"), \n",
    "    values=\"ENTIDAD_RES\", \n",
    "    aggfunc='count',\n",
    ")"
   ]
  },
  {
   "cell_type": "code",
   "execution_count": null,
   "id": "ea92509e",
   "metadata": {},
   "outputs": [],
   "source": []
  }
 ],
 "metadata": {
  "kernelspec": {
   "display_name": "Python 3 (ipykernel)",
   "language": "python",
   "name": "python3"
  },
  "language_info": {
   "codemirror_mode": {
    "name": "ipython",
    "version": 3
   },
   "file_extension": ".py",
   "mimetype": "text/x-python",
   "name": "python",
   "nbconvert_exporter": "python",
   "pygments_lexer": "ipython3",
   "version": "3.9.7"
  }
 },
 "nbformat": 4,
 "nbformat_minor": 5
}
